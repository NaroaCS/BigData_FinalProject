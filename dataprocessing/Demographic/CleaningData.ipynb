{
 "cells": [
  {
   "cell_type": "code",
   "execution_count": 1,
   "metadata": {},
   "outputs": [
    {
     "name": "stdout",
     "output_type": "stream",
     "text": [
      "                 GEO_ID                                     NAME  \\\n",
      "0                    id                     Geographic Area Name   \n",
      "1  1400000US36005000100   Census Tract 1, Bronx County, New York   \n",
      "2  1400000US36005000200   Census Tract 2, Bronx County, New York   \n",
      "3  1400000US36005000400   Census Tract 4, Bronx County, New York   \n",
      "4  1400000US36005001600  Census Tract 16, Bronx County, New York   \n",
      "\n",
      "                                         DP05_0031PM  \\\n",
      "0  Percent Margin of Error!!SEX AND AGE!!Total po...   \n",
      "1                                               50.4   \n",
      "2                                                9.5   \n",
      "3                                                8.8   \n",
      "4                                                8.9   \n",
      "\n",
      "                                          DP05_0032E  \\\n",
      "0  Estimate!!SEX AND AGE!!Total population!!65 ye...   \n",
      "1                                              200.0   \n",
      "2                                               95.1   \n",
      "3                                               91.4   \n",
      "4                                               42.5   \n",
      "\n",
      "                                          DP05_0032M  \\\n",
      "0  Margin of Error!!SEX AND AGE!!Total population...   \n",
      "1                                             1316.0   \n",
      "2                                               37.2   \n",
      "3                                               32.7   \n",
      "4                                               18.4   \n",
      "\n",
      "                                         DP05_0032PE  \\\n",
      "0  Percent Estimate!!SEX AND AGE!!Total populatio...   \n",
      "1                                                (X)   \n",
      "2                                                (X)   \n",
      "3                                                (X)   \n",
      "4                                                (X)   \n",
      "\n",
      "                                         DP05_0032PM  \\\n",
      "0  Percent Margin of Error!!SEX AND AGE!!Total po...   \n",
      "1                                                (X)   \n",
      "2                                                (X)   \n",
      "3                                                (X)   \n",
      "4                                                (X)   \n",
      "\n",
      "                         DP05_0033E                               DP05_0033M  \\\n",
      "0  Estimate!!RACE!!Total population  Margin of Error!!RACE!!Total population   \n",
      "1                              7080                                      290   \n",
      "2                              4542                                      574   \n",
      "3                              5634                                      517   \n",
      "4                              5917                                      461   \n",
      "\n",
      "                                DP05_0033PE  ...  \\\n",
      "0  Percent Estimate!!RACE!!Total population  ...   \n",
      "1                                      7080  ...   \n",
      "2                                      4542  ...   \n",
      "3                                      5634  ...   \n",
      "4                                      5917  ...   \n",
      "\n",
      "                                          DP05_0029M  \\\n",
      "0  Margin of Error!!SEX AND AGE!!Total population...   \n",
      "1                                                 44   \n",
      "2                                                233   \n",
      "3                                                153   \n",
      "4                                                151   \n",
      "\n",
      "                                         DP05_0029PE  \\\n",
      "0  Percent Estimate!!SEX AND AGE!!Total populatio...   \n",
      "1                                                 51   \n",
      "2                                                950   \n",
      "3                                                710   \n",
      "4                                                989   \n",
      "\n",
      "                                         DP05_0029PM  \\\n",
      "0  Percent Margin of Error!!SEX AND AGE!!Total po...   \n",
      "1                                                (X)   \n",
      "2                                                (X)   \n",
      "3                                                (X)   \n",
      "4                                                (X)   \n",
      "\n",
      "                                          DP05_0030E  \\\n",
      "0  Estimate!!SEX AND AGE!!Total population!!65 ye...   \n",
      "1                                                 34   \n",
      "2                                                463   \n",
      "3                                                339   \n",
      "4                                                295   \n",
      "\n",
      "                                          DP05_0030M  \\\n",
      "0  Margin of Error!!SEX AND AGE!!Total population...   \n",
      "1                                                 32   \n",
      "2                                                123   \n",
      "3                                                101   \n",
      "4                                                 94   \n",
      "\n",
      "                                         DP05_0030PE  \\\n",
      "0  Percent Estimate!!SEX AND AGE!!Total populatio...   \n",
      "1                                               66.7   \n",
      "2                                               48.7   \n",
      "3                                               47.7   \n",
      "4                                               29.8   \n",
      "\n",
      "                                         DP05_0030PM  \\\n",
      "0  Percent Margin of Error!!SEX AND AGE!!Total po...   \n",
      "1                                               50.4   \n",
      "2                                                9.5   \n",
      "3                                                8.8   \n",
      "4                                                8.9   \n",
      "\n",
      "                                          DP05_0031E  \\\n",
      "0  Estimate!!SEX AND AGE!!Total population!!65 ye...   \n",
      "1                                                 17   \n",
      "2                                                487   \n",
      "3                                                371   \n",
      "4                                                694   \n",
      "\n",
      "                                          DP05_0031M  \\\n",
      "0  Margin of Error!!SEX AND AGE!!Total population...   \n",
      "1                                                 30   \n",
      "2                                                166   \n",
      "3                                                 96   \n",
      "4                                                144   \n",
      "\n",
      "                                         DP05_0031PE  \n",
      "0  Percent Estimate!!SEX AND AGE!!Total populatio...  \n",
      "1                                               33.3  \n",
      "2                                               51.3  \n",
      "3                                               52.3  \n",
      "4                                               70.2  \n",
      "\n",
      "[5 rows x 358 columns]\n",
      "Index(['GEO_ID', 'NAME', 'DP05_0031PM', 'DP05_0032E', 'DP05_0032M',\n",
      "       'DP05_0032PE', 'DP05_0032PM', 'DP05_0033E', 'DP05_0033M', 'DP05_0033PE',\n",
      "       ...\n",
      "       'DP05_0029M', 'DP05_0029PE', 'DP05_0029PM', 'DP05_0030E', 'DP05_0030M',\n",
      "       'DP05_0030PE', 'DP05_0030PM', 'DP05_0031E', 'DP05_0031M',\n",
      "       'DP05_0031PE'],\n",
      "      dtype='object', length=358)\n"
     ]
    },
    {
     "name": "stderr",
     "output_type": "stream",
     "text": [
      "C:\\Users\\Naroa\\Anaconda3\\envs\\bigdata\\lib\\site-packages\\IPython\\core\\interactiveshell.py:3145: DtypeWarning: Columns (7,8,9,11,12,15,16,19,20,23,24,27,28,31,32,35,36,39,40,43,44,47,48,51,52,55,56,59,60,63,64,67,68,71,72,75,76,79,80,83,84,87,88,91,92,95,96,99,100,103,104,107,108,111,112,115,116,119,120,123,124,127,128,129,131,132,135,136,139,140,143,144,147,148,151,152,155,156,157,159,160,163,164,167,168,171,172,175,176,179,180,183,184,187,188,191,192,195,196,199,200,203,204,207,208,211,212,215,216,219,220,223,224,225,227,228,231,232,235,236,237,239,240,243,244,251,252,255,256,259,260,263,264,267,268,271,272,275,276,279,280,283,284,287,288,291,292,295,296,299,300,307,308,311,312,315,316,319,320,323,324,327,328,331,332,333,335,336,339,340,347,348,349,351,352,355,356) have mixed types.Specify dtype option on import or set low_memory=False.\n",
      "  has_raised = await self.run_ast_nodes(code_ast.body, cell_name,\n"
     ]
    }
   ],
   "source": [
    "import pandas as pd\n",
    "raw_data = pd.read_csv(\"./Demographic_raw.csv\") #importing CSV to DF\n",
    "print(raw_data.head())\n",
    "print(raw_data.columns) # This has a lot of columns! Take a look at the data dictionary \"R12438492.txt\" and think about what columns you will need for this project"
   ]
  },
  {
   "cell_type": "code",
   "execution_count": 2,
   "metadata": {},
   "outputs": [
    {
     "name": "stdout",
     "output_type": "stream",
     "text": [
      "<class 'pandas.core.frame.DataFrame'>\n",
      "Index(['GEO_ID', 'DP05_0033E', 'DP05_0035PE', 'DP05_0037PE', 'DP05_0038PE',\n",
      "       'DP05_0039PE', 'DP05_0044PE', 'DP05_0052PE', 'DP05_0057PE',\n",
      "       'DP05_0019PE'],\n",
      "      dtype='object')\n"
     ]
    }
   ],
   "source": [
    "#YOUR CODE HERE\n",
    "cleaned_data =raw_data.drop(raw_data.columns.difference(['GEO_ID', 'DP05_0019PE','DP05_0033E','DP05_0035PE','DP05_0037PE','DP05_0038PE','DP05_0039PE','DP05_0044PE','DP05_0052PE','DP05_0057PE']), 1)\n",
    "print(type(cleaned_data))\n",
    "print(cleaned_data.columns)"
   ]
  },
  {
   "cell_type": "code",
   "execution_count": 3,
   "metadata": {},
   "outputs": [
    {
     "name": "stdout",
     "output_type": "stream",
     "text": [
      "                 GEO_ID Total Perc_two_or_more Perc_white Perc_black_afam  \\\n",
      "0  1400000US36005000100  7080              1.0       25.0            59.9   \n",
      "1  1400000US36005000200  4542              4.2       47.7            28.2   \n",
      "2  1400000US36005000400  5634              3.7       46.6            30.2   \n",
      "3  1400000US36005001600  5917              2.7       40.7            41.1   \n",
      "4  1400000US36005001900  2765              6.1       21.2            37.6   \n",
      "\n",
      "  Perc_amindian_alnative Perc_asian Perc_hawaii_pi Perc_other_race PercU18  \n",
      "0                    0.4        1.8            0.0            12.0     2.4  \n",
      "1                    0.0        2.3            0.0            17.6    21.1  \n",
      "2                    0.5        4.0            0.0            15.0    20.0  \n",
      "3                    0.0        0.2            0.0            15.3    25.4  \n",
      "4                    0.0        3.4            0.0            31.7    27.4  \n"
     ]
    }
   ],
   "source": [
    "#steps: a) call DataFrame.head() to check out what your data looks like:\n",
    "#         hint: is the first row also data you need? remove the first row if you don't need them\n",
    "#YOUR CODE HERE\n",
    "#celeaned_data['Percentage']\n",
    "\n",
    "cleaned_data.drop([0, 0], inplace=True)\n",
    "cleaned_data.rename({'DP05_0033E':'Total', 'DP05_0035PE':'Perc_two_or_more', 'DP05_0037PE':'Perc_white', 'DP05_0038PE':'Perc_black_afam',\n",
    "       'DP05_0039PE':'Perc_amindian_alnative', 'DP05_0044PE':'Perc_asian', 'DP05_0052PE':'Perc_hawaii_pi', 'DP05_0057PE':'Perc_other_race',\n",
    "        'DP05_0019PE':'PercU18'}, axis=1, inplace=True)\n",
    "cleaned_data = cleaned_data.reset_index(drop=True)\n",
    "print(cleaned_data.head())"
   ]
  },
  {
   "cell_type": "code",
   "execution_count": 4,
   "metadata": {},
   "outputs": [
    {
     "name": "stdout",
     "output_type": "stream",
     "text": [
      "<class 'pandas.core.frame.DataFrame'>\n"
     ]
    },
    {
     "data": {
      "text/plain": [
       "GEO_ID                     object\n",
       "Total                       int64\n",
       "Perc_two_or_more          float64\n",
       "Perc_white                float64\n",
       "Perc_black_afam           float64\n",
       "Perc_amindian_alnative    float64\n",
       "Perc_asian                float64\n",
       "Perc_hawaii_pi            float64\n",
       "Perc_other_race           float64\n",
       "PercU18                   float64\n",
       "dtype: object"
      ]
     },
     "execution_count": 4,
     "metadata": {},
     "output_type": "execute_result"
    }
   ],
   "source": [
    "# Step b) you may want to reset_index() so that your index begins with 0 if you remove any rows\n",
    "#YOUR CODE HERE\n",
    "\n",
    "print(type(cleaned_data))\n",
    "cols = cleaned_data.columns.drop('GEO_ID')\n",
    "cleaned_data[cols] = cleaned_data[cols].apply(pd.to_numeric, errors='coerce')\n",
    "cleaned_data.dtypes"
   ]
  },
  {
   "cell_type": "code",
   "execution_count": 5,
   "metadata": {},
   "outputs": [
    {
     "name": "stderr",
     "output_type": "stream",
     "text": [
      "<ipython-input-5-3c397be4c2f0>:22: SettingWithCopyWarning: \n",
      "A value is trying to be set on a copy of a slice from a DataFrame\n",
      "\n",
      "See the caveats in the documentation: https://pandas.pydata.org/pandas-docs/stable/user_guide/indexing.html#returning-a-view-versus-a-copy\n",
      "  cleaned_data['GEO_ID'][i]=boro_id+censustract_id\n"
     ]
    },
    {
     "name": "stdout",
     "output_type": "stream",
     "text": [
      "    GEO_ID  Total  Perc_two_or_more  Perc_white  Perc_black_afam  \\\n",
      "0  2000100   7080               1.0        25.0             59.9   \n",
      "1  2000200   4542               4.2        47.7             28.2   \n",
      "2  2000400   5634               3.7        46.6             30.2   \n",
      "3  2001600   5917               2.7        40.7             41.1   \n",
      "4  2001900   2765               6.1        21.2             37.6   \n",
      "\n",
      "   Perc_amindian_alnative  Perc_asian  Perc_hawaii_pi  Perc_other_race  \\\n",
      "0                     0.4         1.8             0.0             12.0   \n",
      "1                     0.0         2.3             0.0             17.6   \n",
      "2                     0.5         4.0             0.0             15.0   \n",
      "3                     0.0         0.2             0.0             15.3   \n",
      "4                     0.0         3.4             0.0             31.7   \n",
      "\n",
      "   PercU18  \n",
      "0      2.4  \n",
      "1     21.1  \n",
      "2     20.0  \n",
      "3     25.4  \n",
      "4     27.4  \n"
     ]
    }
   ],
   "source": [
    "#YOUR CODE HERE\n",
    "cleaned_data['GEO_ID'].dtypes\n",
    "\n",
    "for i in range(len(cleaned_data)):\n",
    "    \n",
    "    county_id=cleaned_data['GEO_ID'][i][11:14]\n",
    "    censustract_id=cleaned_data['GEO_ID'][i][14:]\n",
    "\n",
    "    if county_id =='061': #NY County\n",
    "        boro_id='1' #Manhattan\n",
    "    elif county_id == '005': #Bronx County\n",
    "        boro_id= '2'#The Bronx\n",
    "    elif county_id=='047': #King's County\n",
    "        boro_id='3'#Brooklyn\n",
    "    elif county_id=='081':#Queens County\n",
    "        boro_id='4' #Queens\n",
    "    elif county_id=='085': #Richmond County\n",
    "        boro_id='5' #Staten Island\n",
    "    else:\n",
    "        boro_id='ERROR'\n",
    "\n",
    "    cleaned_data['GEO_ID'][i]=boro_id+censustract_id\n",
    "    \n",
    "print(cleaned_data.head())\n",
    "    \n",
    "cleaned_data.to_csv('Demographic_NY.csv', index = False)"
   ]
  },
  {
   "cell_type": "code",
   "execution_count": null,
   "metadata": {},
   "outputs": [],
   "source": [
    "import json\n",
    "\n",
    "with open('Demographic_NY.csv','r') as f:\n",
    "    ct_geojson = json.load(f)\n",
    "\n",
    "\n",
    "internet_dict=cleaned_data_numeric.set_index('GEO_ID')['PercNoAcess']\n",
    "#print(internet_dict[50009001000])\n",
    "\n",
    "#Loop over GeoJSON features and add the new properties\n",
    "for feat in ct_geojson['features']:\n",
    "    try: \n",
    "        ct_id=feat['properties']['boro_ct2010']\n",
    "        perc=internet_dict[ct_id]\n",
    "        feat['properties']['PercentageU18NoAccess']=perc\n",
    "    \n",
    "    except KeyError:\n",
    "        pass\n",
    "\n",
    "#Write result to a new file\n",
    "with open('new.geojson', 'w') as f:\n",
    "    json.dump(ct_geojson, f)"
   ]
  }
 ],
 "metadata": {
  "kernelspec": {
   "display_name": "Python 3",
   "language": "python",
   "name": "python3"
  },
  "language_info": {
   "codemirror_mode": {
    "name": "ipython",
    "version": 3
   },
   "file_extension": ".py",
   "mimetype": "text/x-python",
   "name": "python",
   "nbconvert_exporter": "python",
   "pygments_lexer": "ipython3",
   "version": "3.8.5"
  }
 },
 "nbformat": 4,
 "nbformat_minor": 2
}
