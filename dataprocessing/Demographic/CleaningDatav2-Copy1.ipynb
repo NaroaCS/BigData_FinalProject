{
 "cells": [
  {
   "cell_type": "code",
   "execution_count": 16,
   "metadata": {},
   "outputs": [],
   "source": [
    "import pandas as pd\n",
    "import json\n",
    "\n",
    "demographic_data = pd.read_csv(\"./Demographic_NY.csv\") #importing CSV to DF\n",
    "\n",
    "with open('CT2010.geojson','r') as f:\n",
    "    ct_geojson = json.load(f)\n",
    "\n",
    "\n",
    "dict_two_or_more=demographic_data.set_index('GEO_ID')['Perc_two_or_more']\n",
    "dict_white=demographic_data.set_index('GEO_ID')['Perc_white']\n",
    "dict_black=demographic_data.set_index('GEO_ID')['Perc_black_afam']\n",
    "dict_native=demographic_data.set_index('GEO_ID')['Perc_amindian_alnative']\n",
    "dict_asian=demographic_data.set_index('GEO_ID')['Perc_asian']\n",
    "dict_islander=demographic_data.set_index('GEO_ID')['Perc_hawaii_pi']\n",
    "dict_other=demographic_data.set_index('GEO_ID')['Perc_other_race']\n",
    "dict_u18=demographic_data.set_index('GEO_ID')['PercU18']\n",
    "\n",
    "\n",
    "#Loop over GeoJSON features and add the new properties\n",
    "for feat in ct_geojson['features']:\n",
    "    try: \n",
    "        ct_id=feat['properties']['boro_ct2010']\n",
    "        ct_id=float(ct_id)\n",
    "        perc_two_or_more=dict_two_or_more[ct_id]\n",
    "        feat['properties']['Perc_two_or_more']=str(perc_two_or_more)\n",
    "        perc_white=dict_white[ct_id]\n",
    "        feat['properties']['Perc_white']=str(perc_white)\n",
    "        perc_black=dict_black[ct_id]\n",
    "        feat['properties']['Perc_black_afam']=str(perc_black)\n",
    "        perc_native=dict_native[ct_id]\n",
    "        feat['properties']['Perc_amindian_alnative']=str(perc_native)\n",
    "        perc_asian=dict_asian[ct_id]\n",
    "        feat['properties']['Perc_asian']=str(perc_asian)\n",
    "        perc_islander=dict_islander[ct_id]\n",
    "        feat['properties']['Perc_hawaii_pi']=str(perc_islander)\n",
    "        perc_other=dict_other[ct_id]\n",
    "        feat['properties']['Perc_other_race']=str(perc_other)\n",
    "        perc_u18=dict_u18[ct_id]\n",
    "        feat['properties']['PercU18']=str(perc_u18)\n",
    "        \n",
    "        \n",
    "    \n",
    "    except KeyError:\n",
    "        pass\n",
    "\n",
    "#Write result to a new file\n",
    "with open('new_demographic.geojson', 'w') as f:\n",
    "    json.dump(ct_geojson, f)\n",
    "\n",
    "    \n"
   ]
  },
  {
   "cell_type": "code",
   "execution_count": null,
   "metadata": {},
   "outputs": [],
   "source": []
  },
  {
   "cell_type": "code",
   "execution_count": null,
   "metadata": {},
   "outputs": [],
   "source": []
  }
 ],
 "metadata": {
  "kernelspec": {
   "display_name": "Python 3",
   "language": "python",
   "name": "python3"
  },
  "language_info": {
   "codemirror_mode": {
    "name": "ipython",
    "version": 3
   },
   "file_extension": ".py",
   "mimetype": "text/x-python",
   "name": "python",
   "nbconvert_exporter": "python",
   "pygments_lexer": "ipython3",
   "version": "3.8.5"
  }
 },
 "nbformat": 4,
 "nbformat_minor": 2
}
