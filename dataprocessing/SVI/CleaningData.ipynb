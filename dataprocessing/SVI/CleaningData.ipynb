{
 "cells": [
  {
   "cell_type": "code",
   "execution_count": 1,
   "metadata": {},
   "outputs": [
    {
     "name": "stdout",
     "output_type": "stream",
     "text": [
      "   ST     STATE ST_ABBR  STCNTY  COUNTY         FIPS  \\\n",
      "0  36  NEW YORK      NY   36001  Albany  36001000100   \n",
      "1  36  NEW YORK      NY   36001  Albany  36001000200   \n",
      "2  36  NEW YORK      NY   36001  Albany  36001000300   \n",
      "3  36  NEW YORK      NY   36001  Albany  36001000401   \n",
      "4  36  NEW YORK      NY   36001  Albany  36001000403   \n",
      "\n",
      "                                     LOCATION  AREA_SQMI  E_TOTPOP  M_TOTPOP  \\\n",
      "0     Census Tract 1, Albany County, New York   0.914079      2022       218   \n",
      "1     Census Tract 2, Albany County, New York   0.797363      4700       690   \n",
      "2     Census Tract 3, Albany County, New York   2.227566      5966       741   \n",
      "3  Census Tract 4.01, Albany County, New York   3.500329      2479       263   \n",
      "4  Census Tract 4.03, Albany County, New York   1.211858      4236       365   \n",
      "\n",
      "   ...  F_CROWD  F_NOVEH  F_GROUPQ  F_THEME4  F_TOTAL  E_UNINSUR  M_UNINSUR  \\\n",
      "0  ...        0        0         0         0        2        128         57   \n",
      "1  ...        0        0         0         0        2        595        362   \n",
      "2  ...        0        0         0         0        0        507        345   \n",
      "3  ...        0        0         1         1        3        119         91   \n",
      "4  ...        0        0         0         0        0        133        104   \n",
      "\n",
      "   EP_UNINSUR  MP_UNINSUR  E_DAYPOP  \n",
      "0         6.3         2.8      3031  \n",
      "1        12.7         7.4      4806  \n",
      "2         8.8         6.2     14210  \n",
      "3         5.9         4.5      9449  \n",
      "4         3.1         2.5     11514  \n",
      "\n",
      "[5 rows x 124 columns]\n",
      "Index(['ST', 'STATE', 'ST_ABBR', 'STCNTY', 'COUNTY', 'FIPS', 'LOCATION',\n",
      "       'AREA_SQMI', 'E_TOTPOP', 'M_TOTPOP',\n",
      "       ...\n",
      "       'F_CROWD', 'F_NOVEH', 'F_GROUPQ', 'F_THEME4', 'F_TOTAL', 'E_UNINSUR',\n",
      "       'M_UNINSUR', 'EP_UNINSUR', 'MP_UNINSUR', 'E_DAYPOP'],\n",
      "      dtype='object', length=124)\n"
     ]
    }
   ],
   "source": [
    "import pandas as pd\n",
    "raw_data = pd.read_csv(\"./NewYork.csv\") #importing CSV to DF\n",
    "print(raw_data.head())\n",
    "print(raw_data.columns) # This has a lot of columns! Take a look at the data dictionary \"R12438492.txt\" and think about what columns you will need for this project"
   ]
  },
  {
   "cell_type": "code",
   "execution_count": 2,
   "metadata": {},
   "outputs": [
    {
     "name": "stdout",
     "output_type": "stream",
     "text": [
      "<class 'pandas.core.frame.DataFrame'>\n"
     ]
    }
   ],
   "source": [
    "#YOUR CODE HERE\n",
    "cleaned_data =raw_data.drop(raw_data.columns.difference(['FIPS', 'RPL_THEME1','RPL_THEME2','RPL_THEME3','RPL_THEME4','RPL_THEMES']), 1)\n",
    "print(type(cleaned_data))"
   ]
  },
  {
   "cell_type": "code",
   "execution_count": 3,
   "metadata": {},
   "outputs": [
    {
     "name": "stdout",
     "output_type": "stream",
     "text": [
      "          FIPS  Socioeconomic  HouseholdCompDisab  MinorityLang  \\\n",
      "0  36001000200         0.8317              0.5116        0.5637   \n",
      "1  36001000300         0.8183              0.9215        0.4625   \n",
      "2  36001000401         0.2582              0.6826        0.4130   \n",
      "3  36001000403         0.3141              0.4188        0.4790   \n",
      "4  36001000404         0.6024              0.0031        0.4361   \n",
      "\n",
      "   HousingTransp   Total  \n",
      "0         0.5584  0.7373  \n",
      "1         0.5406  0.8068  \n",
      "2         0.4687  0.4112  \n",
      "3         0.2029  0.2834  \n",
      "4         0.3995  0.2035  \n"
     ]
    }
   ],
   "source": [
    "#steps: a) call DataFrame.head() to check out what your data looks like:\n",
    "#         hint: is the first row also data you need? remove the first row if you don't need them\n",
    "#YOUR CODE HERE\n",
    "#celeaned_data['Percentage']\n",
    "\n",
    "cleaned_data.drop([0, 0], inplace=True)\n",
    "cleaned_data.rename({'RPL_THEME1': 'Socioeconomic', 'RPL_THEME2': 'HouseholdCompDisab','RPL_THEME3': 'MinorityLang','RPL_THEME4': 'HousingTransp','RPL_THEMES': 'Total'}, axis=1, inplace=True)\n",
    "cleaned_data = cleaned_data.reset_index(drop=True)\n",
    "print(cleaned_data.head())"
   ]
  },
  {
   "cell_type": "code",
   "execution_count": 4,
   "metadata": {},
   "outputs": [
    {
     "name": "stdout",
     "output_type": "stream",
     "text": [
      "<class 'pandas.core.frame.DataFrame'>\n"
     ]
    },
    {
     "data": {
      "text/plain": [
       "FIPS                    int64\n",
       "Socioeconomic         float64\n",
       "HouseholdCompDisab    float64\n",
       "MinorityLang          float64\n",
       "HousingTransp         float64\n",
       "Total                 float64\n",
       "dtype: object"
      ]
     },
     "execution_count": 4,
     "metadata": {},
     "output_type": "execute_result"
    }
   ],
   "source": [
    "# Step b) you may want to reset_index() so that your index begins with 0 if you remove any rows\n",
    "#YOUR CODE HERE\n",
    "\n",
    "print(type(cleaned_data))\n",
    "cleaned_data.dtypes\n",
    "cleaned_data_numeric = cleaned_data.apply(pd.to_numeric, errors='ignore')\n",
    "cleaned_data_numeric.dtypes"
   ]
  },
  {
   "cell_type": "code",
   "execution_count": 5,
   "metadata": {},
   "outputs": [
    {
     "data": {
      "text/plain": [
       "FIPS                   object\n",
       "Socioeconomic         float64\n",
       "HouseholdCompDisab    float64\n",
       "MinorityLang          float64\n",
       "HousingTransp         float64\n",
       "Total                 float64\n",
       "dtype: object"
      ]
     },
     "execution_count": 5,
     "metadata": {},
     "output_type": "execute_result"
    }
   ],
   "source": [
    "# Step c)call DataFrame.head() again to make sure your new index is saved in the memory\n",
    "#YOUR CODE HERE\n",
    "#cleaned_data_numeric['PercNoAcess']=(1-cleaned_data_numeric['WithComputerAndBroadband']/cleaned_data_numeric['TotalUnder18'])*100\n",
    "cleaned_data_numeric['FIPS']=cleaned_data_numeric['FIPS'].apply(str)\n",
    "cleaned_data_numeric.dtypes"
   ]
  },
  {
   "cell_type": "code",
   "execution_count": 7,
   "metadata": {},
   "outputs": [
    {
     "data": {
      "text/plain": [
       "'36001000502'"
      ]
     },
     "execution_count": 7,
     "metadata": {},
     "output_type": "execute_result"
    }
   ],
   "source": [
    "#for i in range(len(cleaned_data_numeric)):\n",
    "cleaned_data_numeric['FIPS'][6]"
   ]
  },
  {
   "cell_type": "code",
   "execution_count": 8,
   "metadata": {},
   "outputs": [
    {
     "name": "stderr",
     "output_type": "stream",
     "text": [
      "<ipython-input-8-36c674ef2c85>:10: SettingWithCopyWarning: \n",
      "A value is trying to be set on a copy of a slice from a DataFrame\n",
      "\n",
      "See the caveats in the documentation: https://pandas.pydata.org/pandas-docs/stable/user_guide/indexing.html#returning-a-view-versus-a-copy\n",
      "  cleaned_data_numeric['FIPS'][i]=boro_ct2010\n",
      "<ipython-input-8-36c674ef2c85>:18: SettingWithCopyWarning: \n",
      "A value is trying to be set on a copy of a slice from a DataFrame\n",
      "\n",
      "See the caveats in the documentation: https://pandas.pydata.org/pandas-docs/stable/user_guide/indexing.html#returning-a-view-versus-a-copy\n",
      "  cleaned_data_numeric['FIPS'][i]=boro_ct2010\n",
      "<ipython-input-8-36c674ef2c85>:14: SettingWithCopyWarning: \n",
      "A value is trying to be set on a copy of a slice from a DataFrame\n",
      "\n",
      "See the caveats in the documentation: https://pandas.pydata.org/pandas-docs/stable/user_guide/indexing.html#returning-a-view-versus-a-copy\n",
      "  cleaned_data_numeric['FIPS'][i]=boro_ct2010\n",
      "<ipython-input-8-36c674ef2c85>:23: SettingWithCopyWarning: \n",
      "A value is trying to be set on a copy of a slice from a DataFrame\n",
      "\n",
      "See the caveats in the documentation: https://pandas.pydata.org/pandas-docs/stable/user_guide/indexing.html#returning-a-view-versus-a-copy\n",
      "  cleaned_data_numeric['FIPS'][i]=boro_ct2010\n",
      "<ipython-input-8-36c674ef2c85>:28: SettingWithCopyWarning: \n",
      "A value is trying to be set on a copy of a slice from a DataFrame\n",
      "\n",
      "See the caveats in the documentation: https://pandas.pydata.org/pandas-docs/stable/user_guide/indexing.html#returning-a-view-versus-a-copy\n",
      "  cleaned_data_numeric['FIPS'][i]=boro_ct2010\n"
     ]
    },
    {
     "name": "stdout",
     "output_type": "stream",
     "text": [
      "       FIPS  Socioeconomic  HouseholdCompDisab  MinorityLang  HousingTransp  \\\n",
      "87  2000100      -999.0000           -999.0000        0.8008      -999.0000   \n",
      "88  2000200         0.8981              0.9857        0.9392         0.4577   \n",
      "89  2000400         0.5524              0.5830        0.8093         0.2700   \n",
      "90  2001600         0.8249              0.9391        0.8666         0.9291   \n",
      "91  2001900         0.9231              0.7489        0.8258         0.9378   \n",
      "\n",
      "       Total  \n",
      "87 -999.0000  \n",
      "88    0.9201  \n",
      "89    0.5707  \n",
      "90    0.9452  \n",
      "91    0.9434  \n"
     ]
    }
   ],
   "source": [
    "#YOUR CODE HERE\n",
    "\n",
    "for i in range(len(cleaned_data_numeric)):\n",
    "    ct_id=cleaned_data_numeric['FIPS'][i][5:]\n",
    "    state_id=cleaned_data_numeric['FIPS'][i][:5]\n",
    "\n",
    "    if state_id == '36005': #Bronx\n",
    "        boro_id= '2'#The Bronx\n",
    "        boro_ct2010=boro_id+ct_id\n",
    "        cleaned_data_numeric['FIPS'][i]=boro_ct2010\n",
    "    elif state_id == '36061': #New York County\n",
    "        boro_id='1' #Manhattan\n",
    "        boro_ct2010=boro_id+ct_id\n",
    "        cleaned_data_numeric['FIPS'][i]=boro_ct2010\n",
    "    elif state_id == '36047': #Kings County\n",
    "        boro_id='3'#Brooklyn\n",
    "        boro_ct2010=boro_id+ct_id\n",
    "        cleaned_data_numeric['FIPS'][i]=boro_ct2010\n",
    "\n",
    "    elif state_id == '36081': #Queens County\n",
    "        boro_id='4' #Queens\n",
    "        boro_ct2010=boro_id+ct_id\n",
    "        cleaned_data_numeric['FIPS'][i]=boro_ct2010\n",
    "\n",
    "    elif state_id == '36085': #Ritchmond County\n",
    "        boro_id='5' #Staten Island\n",
    "        boro_ct2010=boro_id+ct_id\n",
    "        cleaned_data_numeric['FIPS'][i]=boro_ct2010\n",
    "\n",
    "    else:\n",
    "        cleaned_data_numeric.drop(i,inplace=True)\n",
    "        \n",
    "\n",
    "print(cleaned_data_numeric.head())\n",
    "    \n",
    "cleaned_data_numeric.to_csv('NY_SVI.csv', index = False)"
   ]
  },
  {
   "cell_type": "code",
   "execution_count": null,
   "metadata": {},
   "outputs": [],
   "source": []
  }
 ],
 "metadata": {
  "kernelspec": {
   "display_name": "Python 3",
   "language": "python",
   "name": "python3"
  },
  "language_info": {
   "codemirror_mode": {
    "name": "ipython",
    "version": 3
   },
   "file_extension": ".py",
   "mimetype": "text/x-python",
   "name": "python",
   "nbconvert_exporter": "python",
   "pygments_lexer": "ipython3",
   "version": "3.8.5"
  }
 },
 "nbformat": 4,
 "nbformat_minor": 2
}
